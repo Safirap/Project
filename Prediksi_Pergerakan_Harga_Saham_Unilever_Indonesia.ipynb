{
  "nbformat": 4,
  "nbformat_minor": 0,
  "metadata": {
    "colab": {
      "name": "Prediksi Pergerakan Harga Saham Unilever Indonesia",
      "provenance": [],
      "authorship_tag": "ABX9TyNiOqtExefB1TapzCOIvJDW",
      "include_colab_link": true
    },
    "kernelspec": {
      "name": "python3",
      "display_name": "Python 3"
    },
    "language_info": {
      "name": "python"
    }
  },
  "cells": [
    {
      "cell_type": "markdown",
      "metadata": {
        "id": "view-in-github",
        "colab_type": "text"
      },
      "source": [
        "<a href=\"https://colab.research.google.com/github/Safirap/Project/blob/main/Prediksi_Pergerakan_Harga_Saham_Unilever_Indonesia.ipynb\" target=\"_parent\"><img src=\"https://colab.research.google.com/assets/colab-badge.svg\" alt=\"Open In Colab\"/></a>"
      ]
    },
    {
      "cell_type": "markdown",
      "source": [
        "#1.Import Library"
      ],
      "metadata": {
        "id": "7W2peIgysoto"
      }
    },
    {
      "cell_type": "code",
      "source": [
        "import numpy as np  \n",
        "import pandas as pd  \n",
        "from pandas_datareader import data as wb  \n",
        "import matplotlib.pyplot as plt  \n",
        "from scipy.stats import norm\n",
        "from scipy.stats import kstest\n",
        "%matplotlib inline"
      ],
      "metadata": {
        "id": "SUDWT3lLspH7"
      },
      "execution_count": 79,
      "outputs": []
    },
    {
      "cell_type": "markdown",
      "source": [
        "#2.Import Data"
      ],
      "metadata": {
        "id": "uvYx3aFMuWP5"
      }
    },
    {
      "cell_type": "code",
      "source": [
        "data = pd.read_csv('https://raw.githubusercontent.com/Safirap/Data/main/Harga%20Saham%20UNVR.JK.csv',sep=',')\n",
        "data"
      ],
      "metadata": {
        "colab": {
          "base_uri": "https://localhost:8080/",
          "height": 424
        },
        "id": "cphKAm-WAtZb",
        "outputId": "720225a3-7b6a-4174-ad39-afd688ab86d6"
      },
      "execution_count": 80,
      "outputs": [
        {
          "output_type": "execute_result",
          "data": {
            "text/html": [
              "\n",
              "  <div id=\"df-57e52d10-5aad-4352-bd9d-7c9d6cfef06a\">\n",
              "    <div class=\"colab-df-container\">\n",
              "      <div>\n",
              "<style scoped>\n",
              "    .dataframe tbody tr th:only-of-type {\n",
              "        vertical-align: middle;\n",
              "    }\n",
              "\n",
              "    .dataframe tbody tr th {\n",
              "        vertical-align: top;\n",
              "    }\n",
              "\n",
              "    .dataframe thead th {\n",
              "        text-align: right;\n",
              "    }\n",
              "</style>\n",
              "<table border=\"1\" class=\"dataframe\">\n",
              "  <thead>\n",
              "    <tr style=\"text-align: right;\">\n",
              "      <th></th>\n",
              "      <th>Date</th>\n",
              "      <th>Open</th>\n",
              "      <th>High</th>\n",
              "      <th>Low</th>\n",
              "      <th>Close</th>\n",
              "      <th>Adj Close</th>\n",
              "      <th>Volume</th>\n",
              "    </tr>\n",
              "  </thead>\n",
              "  <tbody>\n",
              "    <tr>\n",
              "      <th>0</th>\n",
              "      <td>2019-12-02</td>\n",
              "      <td>8360.0</td>\n",
              "      <td>8570.0</td>\n",
              "      <td>8360.0</td>\n",
              "      <td>8570.0</td>\n",
              "      <td>8016.214844</td>\n",
              "      <td>9898000</td>\n",
              "    </tr>\n",
              "    <tr>\n",
              "      <th>1</th>\n",
              "      <td>2019-12-03</td>\n",
              "      <td>8530.0</td>\n",
              "      <td>8560.0</td>\n",
              "      <td>8420.0</td>\n",
              "      <td>8535.0</td>\n",
              "      <td>8064.402832</td>\n",
              "      <td>6575000</td>\n",
              "    </tr>\n",
              "    <tr>\n",
              "      <th>2</th>\n",
              "      <td>2019-12-04</td>\n",
              "      <td>8520.0</td>\n",
              "      <td>8520.0</td>\n",
              "      <td>8390.0</td>\n",
              "      <td>8400.0</td>\n",
              "      <td>7936.846680</td>\n",
              "      <td>8455000</td>\n",
              "    </tr>\n",
              "    <tr>\n",
              "      <th>3</th>\n",
              "      <td>2019-12-05</td>\n",
              "      <td>8400.0</td>\n",
              "      <td>8500.0</td>\n",
              "      <td>8400.0</td>\n",
              "      <td>8430.0</td>\n",
              "      <td>7965.192383</td>\n",
              "      <td>5020000</td>\n",
              "    </tr>\n",
              "    <tr>\n",
              "      <th>4</th>\n",
              "      <td>2019-12-06</td>\n",
              "      <td>8420.0</td>\n",
              "      <td>8460.0</td>\n",
              "      <td>8400.0</td>\n",
              "      <td>8450.0</td>\n",
              "      <td>7984.088867</td>\n",
              "      <td>6634500</td>\n",
              "    </tr>\n",
              "    <tr>\n",
              "      <th>...</th>\n",
              "      <td>...</td>\n",
              "      <td>...</td>\n",
              "      <td>...</td>\n",
              "      <td>...</td>\n",
              "      <td>...</td>\n",
              "      <td>...</td>\n",
              "      <td>...</td>\n",
              "    </tr>\n",
              "    <tr>\n",
              "      <th>503</th>\n",
              "      <td>2021-12-24</td>\n",
              "      <td>4090.0</td>\n",
              "      <td>4210.0</td>\n",
              "      <td>4080.0</td>\n",
              "      <td>4200.0</td>\n",
              "      <td>4200.000000</td>\n",
              "      <td>11979500</td>\n",
              "    </tr>\n",
              "    <tr>\n",
              "      <th>504</th>\n",
              "      <td>2021-12-27</td>\n",
              "      <td>4200.0</td>\n",
              "      <td>4230.0</td>\n",
              "      <td>4170.0</td>\n",
              "      <td>4210.0</td>\n",
              "      <td>4210.000000</td>\n",
              "      <td>7238100</td>\n",
              "    </tr>\n",
              "    <tr>\n",
              "      <th>505</th>\n",
              "      <td>2021-12-28</td>\n",
              "      <td>4210.0</td>\n",
              "      <td>4230.0</td>\n",
              "      <td>4180.0</td>\n",
              "      <td>4180.0</td>\n",
              "      <td>4180.000000</td>\n",
              "      <td>7006900</td>\n",
              "    </tr>\n",
              "    <tr>\n",
              "      <th>506</th>\n",
              "      <td>2021-12-29</td>\n",
              "      <td>4180.0</td>\n",
              "      <td>4190.0</td>\n",
              "      <td>4120.0</td>\n",
              "      <td>4120.0</td>\n",
              "      <td>4120.000000</td>\n",
              "      <td>9030700</td>\n",
              "    </tr>\n",
              "    <tr>\n",
              "      <th>507</th>\n",
              "      <td>2021-12-30</td>\n",
              "      <td>4130.0</td>\n",
              "      <td>4170.0</td>\n",
              "      <td>4110.0</td>\n",
              "      <td>4110.0</td>\n",
              "      <td>4110.000000</td>\n",
              "      <td>7633100</td>\n",
              "    </tr>\n",
              "  </tbody>\n",
              "</table>\n",
              "<p>508 rows × 7 columns</p>\n",
              "</div>\n",
              "      <button class=\"colab-df-convert\" onclick=\"convertToInteractive('df-57e52d10-5aad-4352-bd9d-7c9d6cfef06a')\"\n",
              "              title=\"Convert this dataframe to an interactive table.\"\n",
              "              style=\"display:none;\">\n",
              "        \n",
              "  <svg xmlns=\"http://www.w3.org/2000/svg\" height=\"24px\"viewBox=\"0 0 24 24\"\n",
              "       width=\"24px\">\n",
              "    <path d=\"M0 0h24v24H0V0z\" fill=\"none\"/>\n",
              "    <path d=\"M18.56 5.44l.94 2.06.94-2.06 2.06-.94-2.06-.94-.94-2.06-.94 2.06-2.06.94zm-11 1L8.5 8.5l.94-2.06 2.06-.94-2.06-.94L8.5 2.5l-.94 2.06-2.06.94zm10 10l.94 2.06.94-2.06 2.06-.94-2.06-.94-.94-2.06-.94 2.06-2.06.94z\"/><path d=\"M17.41 7.96l-1.37-1.37c-.4-.4-.92-.59-1.43-.59-.52 0-1.04.2-1.43.59L10.3 9.45l-7.72 7.72c-.78.78-.78 2.05 0 2.83L4 21.41c.39.39.9.59 1.41.59.51 0 1.02-.2 1.41-.59l7.78-7.78 2.81-2.81c.8-.78.8-2.07 0-2.86zM5.41 20L4 18.59l7.72-7.72 1.47 1.35L5.41 20z\"/>\n",
              "  </svg>\n",
              "      </button>\n",
              "      \n",
              "  <style>\n",
              "    .colab-df-container {\n",
              "      display:flex;\n",
              "      flex-wrap:wrap;\n",
              "      gap: 12px;\n",
              "    }\n",
              "\n",
              "    .colab-df-convert {\n",
              "      background-color: #E8F0FE;\n",
              "      border: none;\n",
              "      border-radius: 50%;\n",
              "      cursor: pointer;\n",
              "      display: none;\n",
              "      fill: #1967D2;\n",
              "      height: 32px;\n",
              "      padding: 0 0 0 0;\n",
              "      width: 32px;\n",
              "    }\n",
              "\n",
              "    .colab-df-convert:hover {\n",
              "      background-color: #E2EBFA;\n",
              "      box-shadow: 0px 1px 2px rgba(60, 64, 67, 0.3), 0px 1px 3px 1px rgba(60, 64, 67, 0.15);\n",
              "      fill: #174EA6;\n",
              "    }\n",
              "\n",
              "    [theme=dark] .colab-df-convert {\n",
              "      background-color: #3B4455;\n",
              "      fill: #D2E3FC;\n",
              "    }\n",
              "\n",
              "    [theme=dark] .colab-df-convert:hover {\n",
              "      background-color: #434B5C;\n",
              "      box-shadow: 0px 1px 3px 1px rgba(0, 0, 0, 0.15);\n",
              "      filter: drop-shadow(0px 1px 2px rgba(0, 0, 0, 0.3));\n",
              "      fill: #FFFFFF;\n",
              "    }\n",
              "  </style>\n",
              "\n",
              "      <script>\n",
              "        const buttonEl =\n",
              "          document.querySelector('#df-57e52d10-5aad-4352-bd9d-7c9d6cfef06a button.colab-df-convert');\n",
              "        buttonEl.style.display =\n",
              "          google.colab.kernel.accessAllowed ? 'block' : 'none';\n",
              "\n",
              "        async function convertToInteractive(key) {\n",
              "          const element = document.querySelector('#df-57e52d10-5aad-4352-bd9d-7c9d6cfef06a');\n",
              "          const dataTable =\n",
              "            await google.colab.kernel.invokeFunction('convertToInteractive',\n",
              "                                                     [key], {});\n",
              "          if (!dataTable) return;\n",
              "\n",
              "          const docLinkHtml = 'Like what you see? Visit the ' +\n",
              "            '<a target=\"_blank\" href=https://colab.research.google.com/notebooks/data_table.ipynb>data table notebook</a>'\n",
              "            + ' to learn more about interactive tables.';\n",
              "          element.innerHTML = '';\n",
              "          dataTable['output_type'] = 'display_data';\n",
              "          await google.colab.output.renderOutput(dataTable, element);\n",
              "          const docLink = document.createElement('div');\n",
              "          docLink.innerHTML = docLinkHtml;\n",
              "          element.appendChild(docLink);\n",
              "        }\n",
              "      </script>\n",
              "    </div>\n",
              "  </div>\n",
              "  "
            ],
            "text/plain": [
              "           Date    Open    High     Low   Close    Adj Close    Volume\n",
              "0    2019-12-02  8360.0  8570.0  8360.0  8570.0  8016.214844   9898000\n",
              "1    2019-12-03  8530.0  8560.0  8420.0  8535.0  8064.402832   6575000\n",
              "2    2019-12-04  8520.0  8520.0  8390.0  8400.0  7936.846680   8455000\n",
              "3    2019-12-05  8400.0  8500.0  8400.0  8430.0  7965.192383   5020000\n",
              "4    2019-12-06  8420.0  8460.0  8400.0  8450.0  7984.088867   6634500\n",
              "..          ...     ...     ...     ...     ...          ...       ...\n",
              "503  2021-12-24  4090.0  4210.0  4080.0  4200.0  4200.000000  11979500\n",
              "504  2021-12-27  4200.0  4230.0  4170.0  4210.0  4210.000000   7238100\n",
              "505  2021-12-28  4210.0  4230.0  4180.0  4180.0  4180.000000   7006900\n",
              "506  2021-12-29  4180.0  4190.0  4120.0  4120.0  4120.000000   9030700\n",
              "507  2021-12-30  4130.0  4170.0  4110.0  4110.0  4110.000000   7633100\n",
              "\n",
              "[508 rows x 7 columns]"
            ]
          },
          "metadata": {},
          "execution_count": 80
        }
      ]
    },
    {
      "cell_type": "markdown",
      "source": [
        "#3.Data Prepocessing"
      ],
      "metadata": {
        "id": "GBS590R-rQu2"
      }
    },
    {
      "cell_type": "code",
      "source": [
        "data.shape"
      ],
      "metadata": {
        "colab": {
          "base_uri": "https://localhost:8080/"
        },
        "id": "Ik4qwO2yA4mu",
        "outputId": "7f17f355-5205-40b0-9f78-89501c2b1804"
      },
      "execution_count": 81,
      "outputs": [
        {
          "output_type": "execute_result",
          "data": {
            "text/plain": [
              "(508, 7)"
            ]
          },
          "metadata": {},
          "execution_count": 81
        }
      ]
    },
    {
      "cell_type": "markdown",
      "source": [
        "terdapat 508 baris dan 7 kolom"
      ],
      "metadata": {
        "id": "ucRFWn5jrBRG"
      }
    },
    {
      "cell_type": "code",
      "source": [
        "data.dtypes"
      ],
      "metadata": {
        "colab": {
          "base_uri": "https://localhost:8080/"
        },
        "id": "6VifpK7K0uwb",
        "outputId": "8a7f2da1-2e6f-4ab6-f344-50c0e92a5bac"
      },
      "execution_count": 82,
      "outputs": [
        {
          "output_type": "execute_result",
          "data": {
            "text/plain": [
              "Date          object\n",
              "Open         float64\n",
              "High         float64\n",
              "Low          float64\n",
              "Close        float64\n",
              "Adj Close    float64\n",
              "Volume         int64\n",
              "dtype: object"
            ]
          },
          "metadata": {},
          "execution_count": 82
        }
      ]
    },
    {
      "cell_type": "markdown",
      "source": [
        "Seleksi Kolom"
      ],
      "metadata": {
        "id": "9nLlynIu0o4u"
      }
    },
    {
      "cell_type": "code",
      "source": [
        "data2 = data[['Date', 'Adj Close']]\n",
        "data2"
      ],
      "metadata": {
        "colab": {
          "base_uri": "https://localhost:8080/",
          "height": 424
        },
        "id": "i-5YOZKzzL9B",
        "outputId": "a42b9c70-0b53-43b6-e6d8-07fb3f15ed31"
      },
      "execution_count": 83,
      "outputs": [
        {
          "output_type": "execute_result",
          "data": {
            "text/html": [
              "\n",
              "  <div id=\"df-56456152-b86d-438a-88df-aba39eb35614\">\n",
              "    <div class=\"colab-df-container\">\n",
              "      <div>\n",
              "<style scoped>\n",
              "    .dataframe tbody tr th:only-of-type {\n",
              "        vertical-align: middle;\n",
              "    }\n",
              "\n",
              "    .dataframe tbody tr th {\n",
              "        vertical-align: top;\n",
              "    }\n",
              "\n",
              "    .dataframe thead th {\n",
              "        text-align: right;\n",
              "    }\n",
              "</style>\n",
              "<table border=\"1\" class=\"dataframe\">\n",
              "  <thead>\n",
              "    <tr style=\"text-align: right;\">\n",
              "      <th></th>\n",
              "      <th>Date</th>\n",
              "      <th>Adj Close</th>\n",
              "    </tr>\n",
              "  </thead>\n",
              "  <tbody>\n",
              "    <tr>\n",
              "      <th>0</th>\n",
              "      <td>2019-12-02</td>\n",
              "      <td>8016.214844</td>\n",
              "    </tr>\n",
              "    <tr>\n",
              "      <th>1</th>\n",
              "      <td>2019-12-03</td>\n",
              "      <td>8064.402832</td>\n",
              "    </tr>\n",
              "    <tr>\n",
              "      <th>2</th>\n",
              "      <td>2019-12-04</td>\n",
              "      <td>7936.846680</td>\n",
              "    </tr>\n",
              "    <tr>\n",
              "      <th>3</th>\n",
              "      <td>2019-12-05</td>\n",
              "      <td>7965.192383</td>\n",
              "    </tr>\n",
              "    <tr>\n",
              "      <th>4</th>\n",
              "      <td>2019-12-06</td>\n",
              "      <td>7984.088867</td>\n",
              "    </tr>\n",
              "    <tr>\n",
              "      <th>...</th>\n",
              "      <td>...</td>\n",
              "      <td>...</td>\n",
              "    </tr>\n",
              "    <tr>\n",
              "      <th>503</th>\n",
              "      <td>2021-12-24</td>\n",
              "      <td>4200.000000</td>\n",
              "    </tr>\n",
              "    <tr>\n",
              "      <th>504</th>\n",
              "      <td>2021-12-27</td>\n",
              "      <td>4210.000000</td>\n",
              "    </tr>\n",
              "    <tr>\n",
              "      <th>505</th>\n",
              "      <td>2021-12-28</td>\n",
              "      <td>4180.000000</td>\n",
              "    </tr>\n",
              "    <tr>\n",
              "      <th>506</th>\n",
              "      <td>2021-12-29</td>\n",
              "      <td>4120.000000</td>\n",
              "    </tr>\n",
              "    <tr>\n",
              "      <th>507</th>\n",
              "      <td>2021-12-30</td>\n",
              "      <td>4110.000000</td>\n",
              "    </tr>\n",
              "  </tbody>\n",
              "</table>\n",
              "<p>508 rows × 2 columns</p>\n",
              "</div>\n",
              "      <button class=\"colab-df-convert\" onclick=\"convertToInteractive('df-56456152-b86d-438a-88df-aba39eb35614')\"\n",
              "              title=\"Convert this dataframe to an interactive table.\"\n",
              "              style=\"display:none;\">\n",
              "        \n",
              "  <svg xmlns=\"http://www.w3.org/2000/svg\" height=\"24px\"viewBox=\"0 0 24 24\"\n",
              "       width=\"24px\">\n",
              "    <path d=\"M0 0h24v24H0V0z\" fill=\"none\"/>\n",
              "    <path d=\"M18.56 5.44l.94 2.06.94-2.06 2.06-.94-2.06-.94-.94-2.06-.94 2.06-2.06.94zm-11 1L8.5 8.5l.94-2.06 2.06-.94-2.06-.94L8.5 2.5l-.94 2.06-2.06.94zm10 10l.94 2.06.94-2.06 2.06-.94-2.06-.94-.94-2.06-.94 2.06-2.06.94z\"/><path d=\"M17.41 7.96l-1.37-1.37c-.4-.4-.92-.59-1.43-.59-.52 0-1.04.2-1.43.59L10.3 9.45l-7.72 7.72c-.78.78-.78 2.05 0 2.83L4 21.41c.39.39.9.59 1.41.59.51 0 1.02-.2 1.41-.59l7.78-7.78 2.81-2.81c.8-.78.8-2.07 0-2.86zM5.41 20L4 18.59l7.72-7.72 1.47 1.35L5.41 20z\"/>\n",
              "  </svg>\n",
              "      </button>\n",
              "      \n",
              "  <style>\n",
              "    .colab-df-container {\n",
              "      display:flex;\n",
              "      flex-wrap:wrap;\n",
              "      gap: 12px;\n",
              "    }\n",
              "\n",
              "    .colab-df-convert {\n",
              "      background-color: #E8F0FE;\n",
              "      border: none;\n",
              "      border-radius: 50%;\n",
              "      cursor: pointer;\n",
              "      display: none;\n",
              "      fill: #1967D2;\n",
              "      height: 32px;\n",
              "      padding: 0 0 0 0;\n",
              "      width: 32px;\n",
              "    }\n",
              "\n",
              "    .colab-df-convert:hover {\n",
              "      background-color: #E2EBFA;\n",
              "      box-shadow: 0px 1px 2px rgba(60, 64, 67, 0.3), 0px 1px 3px 1px rgba(60, 64, 67, 0.15);\n",
              "      fill: #174EA6;\n",
              "    }\n",
              "\n",
              "    [theme=dark] .colab-df-convert {\n",
              "      background-color: #3B4455;\n",
              "      fill: #D2E3FC;\n",
              "    }\n",
              "\n",
              "    [theme=dark] .colab-df-convert:hover {\n",
              "      background-color: #434B5C;\n",
              "      box-shadow: 0px 1px 3px 1px rgba(0, 0, 0, 0.15);\n",
              "      filter: drop-shadow(0px 1px 2px rgba(0, 0, 0, 0.3));\n",
              "      fill: #FFFFFF;\n",
              "    }\n",
              "  </style>\n",
              "\n",
              "      <script>\n",
              "        const buttonEl =\n",
              "          document.querySelector('#df-56456152-b86d-438a-88df-aba39eb35614 button.colab-df-convert');\n",
              "        buttonEl.style.display =\n",
              "          google.colab.kernel.accessAllowed ? 'block' : 'none';\n",
              "\n",
              "        async function convertToInteractive(key) {\n",
              "          const element = document.querySelector('#df-56456152-b86d-438a-88df-aba39eb35614');\n",
              "          const dataTable =\n",
              "            await google.colab.kernel.invokeFunction('convertToInteractive',\n",
              "                                                     [key], {});\n",
              "          if (!dataTable) return;\n",
              "\n",
              "          const docLinkHtml = 'Like what you see? Visit the ' +\n",
              "            '<a target=\"_blank\" href=https://colab.research.google.com/notebooks/data_table.ipynb>data table notebook</a>'\n",
              "            + ' to learn more about interactive tables.';\n",
              "          element.innerHTML = '';\n",
              "          dataTable['output_type'] = 'display_data';\n",
              "          await google.colab.output.renderOutput(dataTable, element);\n",
              "          const docLink = document.createElement('div');\n",
              "          docLink.innerHTML = docLinkHtml;\n",
              "          element.appendChild(docLink);\n",
              "        }\n",
              "      </script>\n",
              "    </div>\n",
              "  </div>\n",
              "  "
            ],
            "text/plain": [
              "           Date    Adj Close\n",
              "0    2019-12-02  8016.214844\n",
              "1    2019-12-03  8064.402832\n",
              "2    2019-12-04  7936.846680\n",
              "3    2019-12-05  7965.192383\n",
              "4    2019-12-06  7984.088867\n",
              "..          ...          ...\n",
              "503  2021-12-24  4200.000000\n",
              "504  2021-12-27  4210.000000\n",
              "505  2021-12-28  4180.000000\n",
              "506  2021-12-29  4120.000000\n",
              "507  2021-12-30  4110.000000\n",
              "\n",
              "[508 rows x 2 columns]"
            ]
          },
          "metadata": {},
          "execution_count": 83
        }
      ]
    },
    {
      "cell_type": "markdown",
      "source": [
        "Visualisasi pergerakan saham UNVR.JK"
      ],
      "metadata": {
        "id": "2WV1HtLm01o4"
      }
    },
    {
      "cell_type": "code",
      "source": [
        "data2.plot(figsize = (12,8))\n",
        "plt.title('Pergerakan Harga Saham UNVR.JK (Harian 2 Desember 2019- 30 Desember 2021)', fontsize = 18)\n",
        "plt.ylabel('Harga Saham')\n",
        "plt.xlabel('Hari')\n",
        "plt.show()"
      ],
      "metadata": {
        "colab": {
          "base_uri": "https://localhost:8080/",
          "height": 517
        },
        "id": "uploPjhYrYVI",
        "outputId": "206f8b2a-3fc7-42de-b189-519f6cf5107f"
      },
      "execution_count": 84,
      "outputs": [
        {
          "output_type": "display_data",
          "data": {
            "image/png": "[encoded data removed]",
            "text/plain": [
              "<Figure size 864x576 with 1 Axes>"
            ]
          },
          "metadata": {
            "needs_background": "light"
          }
        }
      ]
    },
    {
      "cell_type": "markdown",
      "source": [
        "dari grafik diatas terlihat bahwa harga saham mengalami penurunan"
      ],
      "metadata": {
        "id": "lafRmIuPrgS5"
      }
    },
    {
      "cell_type": "markdown",
      "source": [
        "#4.Pemodelan Pergerakan saham menggunakan Simulasi Monte Carlo"
      ],
      "metadata": {
        "id": "7kXR8cevrpvF"
      }
    },
    {
      "cell_type": "markdown",
      "source": [
        "##4.1.Menghitung return harian"
      ],
      "metadata": {
        "id": "Ke6A_iQzsrUn"
      }
    },
    {
      "cell_type": "code",
      "source": [
        "return_daily = data2['Adj Close'].pct_change().dropna()\n",
        "return_daily"
      ],
      "metadata": {
        "colab": {
          "base_uri": "https://localhost:8080/"
        },
        "id": "mZYwIdWjorP4",
        "outputId": "a9b2c0b7-38aa-49dd-de07-c12809f7d319"
      },
      "execution_count": 85,
      "outputs": [
        {
          "output_type": "execute_result",
          "data": {
            "text/plain": [
              "1      0.006011\n",
              "2     -0.015817\n",
              "3      0.003571\n",
              "4      0.002372\n",
              "5      0.000592\n",
              "         ...   \n",
              "503    0.029412\n",
              "504    0.002381\n",
              "505   -0.007126\n",
              "506   -0.014354\n",
              "507   -0.002427\n",
              "Name: Adj Close, Length: 507, dtype: float64"
            ]
          },
          "metadata": {},
          "execution_count": 85
        }
      ]
    },
    {
      "cell_type": "markdown",
      "source": [
        "Visualisasi return harian"
      ],
      "metadata": {
        "id": "t9SXX-fDtbvO"
      }
    },
    {
      "cell_type": "code",
      "source": [
        "return_daily.plot(figsize = (12,4))\n",
        "plt.title('Return Harian 2 Desember 2019- 30 Desember 2021', fontsize = 18)\n",
        "plt.ylabel('Nilai Return')\n",
        "plt.xlabel('Hari')\n",
        "plt.show()"
      ],
      "metadata": {
        "colab": {
          "base_uri": "https://localhost:8080/",
          "height": 299
        },
        "id": "Z1RNMP9qtKIk",
        "outputId": "19c75dd3-5e62-469d-b6af-5fee27062269"
      },
      "execution_count": 129,
      "outputs": [
        {
          "output_type": "display_data",
          "data": {
            "image/png": "[encoded data removed]",
            "text/plain": [
              "<Figure size 864x288 with 1 Axes>"
            ]
          },
          "metadata": {
            "needs_background": "light"
          }
        }
      ]
    },
    {
      "cell_type": "markdown",
      "source": [
        "uji normalitas return saham"
      ],
      "metadata": {
        "id": "oagdkn-BOe9U"
      }
    },
    {
      "cell_type": "code",
      "source": [
        "ksdata = kstest(return_daily, 'norm')\n",
        "print(ksdata)"
      ],
      "metadata": {
        "colab": {
          "base_uri": "https://localhost:8080/"
        },
        "id": "zcrn1wGFMJpE",
        "outputId": "4209948a-94a9-4133-e124-81dfb173469d"
      },
      "execution_count": 87,
      "outputs": [
        {
          "output_type": "stream",
          "name": "stdout",
          "text": [
            "KstestResult(statistic=0.47240297765774203, pvalue=2.3079635410720417e-104)\n"
          ]
        }
      ]
    },
    {
      "cell_type": "markdown",
      "source": [
        "##4.2.Estimasi Parameter Model"
      ],
      "metadata": {
        "id": "jzvoX5xrquQt"
      }
    },
    {
      "cell_type": "markdown",
      "source": [
        "###1.Mencari mean"
      ],
      "metadata": {
        "id": "I_zC82iQ1YXr"
      }
    },
    {
      "cell_type": "code",
      "source": [
        "u = return_daily.mean()\n",
        "u"
      ],
      "metadata": {
        "colab": {
          "base_uri": "https://localhost:8080/"
        },
        "id": "QiJy0ARTFMvk",
        "outputId": "031b70f1-7a45-4f71-d1d5-a22cf10a6ff8"
      },
      "execution_count": 88,
      "outputs": [
        {
          "output_type": "execute_result",
          "data": {
            "text/plain": [
              "-0.00106293579493073"
            ]
          },
          "metadata": {},
          "execution_count": 88
        }
      ]
    },
    {
      "cell_type": "markdown",
      "source": [
        "###2.Mencari Variansi"
      ],
      "metadata": {
        "id": "DDrSdlSB1a0h"
      }
    },
    {
      "cell_type": "code",
      "source": [
        "var = return_daily.var()\n",
        "var"
      ],
      "metadata": {
        "colab": {
          "base_uri": "https://localhost:8080/"
        },
        "id": "yiJrR2yOFTsy",
        "outputId": "d0cc3f50-e6c1-40b0-b9db-d22df6abfb27"
      },
      "execution_count": 89,
      "outputs": [
        {
          "output_type": "execute_result",
          "data": {
            "text/plain": [
              "0.000523318320501235"
            ]
          },
          "metadata": {},
          "execution_count": 89
        }
      ]
    },
    {
      "cell_type": "markdown",
      "source": [
        "Menghitung Drift"
      ],
      "metadata": {
        "id": "kGCWVP8A1ef1"
      }
    },
    {
      "cell_type": "code",
      "source": [
        "drift = u - (0.5 * var)\n",
        "drift"
      ],
      "metadata": {
        "colab": {
          "base_uri": "https://localhost:8080/"
        },
        "id": "bZ_VR87XFb-O",
        "outputId": "2b56c000-9880-4eaa-9e12-109aa14f8e8e"
      },
      "execution_count": 90,
      "outputs": [
        {
          "output_type": "execute_result",
          "data": {
            "text/plain": [
              "-0.0013245949551813475"
            ]
          },
          "metadata": {},
          "execution_count": 90
        }
      ]
    },
    {
      "cell_type": "markdown",
      "source": [
        "###3.Menghitung standar Deviasi"
      ],
      "metadata": {
        "id": "o2XZ44hJ2Z5u"
      }
    },
    {
      "cell_type": "code",
      "source": [
        "stdev = return_daily.std()\n",
        "stdev"
      ],
      "metadata": {
        "id": "DuVTA4aSFfdO",
        "colab": {
          "base_uri": "https://localhost:8080/"
        },
        "outputId": "61ce2a7c-0136-4812-e12c-082cdd62e1fe"
      },
      "execution_count": 91,
      "outputs": [
        {
          "output_type": "execute_result",
          "data": {
            "text/plain": [
              "0.02287615178523772"
            ]
          },
          "metadata": {},
          "execution_count": 91
        }
      ]
    },
    {
      "cell_type": "code",
      "source": [
        "t_interval = 10\n",
        "iteration = 1"
      ],
      "metadata": {
        "id": "x6ukBE32Ka_e"
      },
      "execution_count": 92,
      "outputs": []
    },
    {
      "cell_type": "code",
      "source": [
        "norm.ppf(np.random.rand(t_interval,iteration))\n"
      ],
      "metadata": {
        "colab": {
          "base_uri": "https://localhost:8080/"
        },
        "id": "OtWDCZP_2zev",
        "outputId": "95e4f865-4411-46a5-fb26-cbb29ac3c9ba"
      },
      "execution_count": 93,
      "outputs": [
        {
          "output_type": "execute_result",
          "data": {
            "text/plain": [
              "array([[-1.06865336],\n",
              "       [ 1.29499263],\n",
              "       [-1.97940738],\n",
              "       [-0.6909778 ],\n",
              "       [-0.04930159],\n",
              "       [-1.14120651],\n",
              "       [ 1.1089294 ],\n",
              "       [ 0.94563074],\n",
              "       [-0.32456063],\n",
              "       [-0.04220562]])"
            ]
          },
          "metadata": {},
          "execution_count": 93
        }
      ]
    },
    {
      "cell_type": "markdown",
      "source": [
        "Menghitung Pergerakan Harian e^r\n",
        "\n",
        "e merupakan bilangan euler (2,718281828) dan r merupakan penjumlahan dari Drift dan Random Component\n"
      ],
      "metadata": {
        "id": "eBxibxp728BD"
      }
    },
    {
      "cell_type": "code",
      "source": [
        "return_daily_e = np.exp(drift + stdev *norm.ppf(np.random.rand(t_interval,iteration)))\n",
        "return_daily_e"
      ],
      "metadata": {
        "colab": {
          "base_uri": "https://localhost:8080/"
        },
        "id": "UOPcg-6Etq50",
        "outputId": "e6fabd46-24b9-4b77-fed2-1d03f11d6c81"
      },
      "execution_count": 94,
      "outputs": [
        {
          "output_type": "execute_result",
          "data": {
            "text/plain": [
              "array([[0.978062  ],\n",
              "       [0.98036895],\n",
              "       [0.98013444],\n",
              "       [1.0025615 ],\n",
              "       [1.05136385],\n",
              "       [1.00065299],\n",
              "       [1.03397869],\n",
              "       [0.99280712],\n",
              "       [1.01422152],\n",
              "       [0.97789271]])"
            ]
          },
          "metadata": {},
          "execution_count": 94
        }
      ]
    },
    {
      "cell_type": "code",
      "source": [
        "return_daily_e.shape"
      ],
      "metadata": {
        "colab": {
          "base_uri": "https://localhost:8080/"
        },
        "id": "yyETcaF22tEA",
        "outputId": "b2e61f63-93bf-40af-cf3c-2787d9e20c3e"
      },
      "execution_count": 95,
      "outputs": [
        {
          "output_type": "execute_result",
          "data": {
            "text/plain": [
              "(10, 1)"
            ]
          },
          "metadata": {},
          "execution_count": 95
        }
      ]
    },
    {
      "cell_type": "markdown",
      "source": [
        "##4.3.Menghitung harga saham dan akurasi model"
      ],
      "metadata": {
        "id": "55F4WAMBxxOa"
      }
    },
    {
      "cell_type": "code",
      "source": [
        "S0 = data2['Adj Close'].iloc[-1]\n",
        "S0"
      ],
      "metadata": {
        "colab": {
          "base_uri": "https://localhost:8080/"
        },
        "id": "867rOqLOJ4R_",
        "outputId": "4f71dd03-2456-47a6-c1f4-cdf151a66ab9"
      },
      "execution_count": 96,
      "outputs": [
        {
          "output_type": "execute_result",
          "data": {
            "text/plain": [
              "4110.0"
            ]
          },
          "metadata": {},
          "execution_count": 96
        }
      ]
    },
    {
      "cell_type": "code",
      "source": [
        "price_list = np.zeros_like(return_daily_e)\n",
        "price_list"
      ],
      "metadata": {
        "colab": {
          "base_uri": "https://localhost:8080/"
        },
        "id": "rl0R0xy0KBf0",
        "outputId": "a594c615-ad5e-4159-ac5f-5b937ac1b05d"
      },
      "execution_count": 97,
      "outputs": [
        {
          "output_type": "execute_result",
          "data": {
            "text/plain": [
              "array([[0.],\n",
              "       [0.],\n",
              "       [0.],\n",
              "       [0.],\n",
              "       [0.],\n",
              "       [0.],\n",
              "       [0.],\n",
              "       [0.],\n",
              "       [0.],\n",
              "       [0.]])"
            ]
          },
          "metadata": {},
          "execution_count": 97
        }
      ]
    },
    {
      "cell_type": "code",
      "source": [
        "price_list[0] = S0\n",
        "price_list"
      ],
      "metadata": {
        "colab": {
          "base_uri": "https://localhost:8080/"
        },
        "id": "VMuUQDtKKGZQ",
        "outputId": "56f0847c-b3d6-4578-c064-9401fe9677e4"
      },
      "execution_count": 98,
      "outputs": [
        {
          "output_type": "execute_result",
          "data": {
            "text/plain": [
              "array([[4110.],\n",
              "       [   0.],\n",
              "       [   0.],\n",
              "       [   0.],\n",
              "       [   0.],\n",
              "       [   0.],\n",
              "       [   0.],\n",
              "       [   0.],\n",
              "       [   0.],\n",
              "       [   0.]])"
            ]
          },
          "metadata": {},
          "execution_count": 98
        }
      ]
    },
    {
      "cell_type": "markdown",
      "source": [
        "Perkiraan harga saham untuk 10 hari kedepan"
      ],
      "metadata": {
        "id": "b7kjtaXqyEsp"
      }
    },
    {
      "cell_type": "code",
      "source": [
        "for t in range(1, t_interval):\n",
        "    price_list[t] = price_list[t - 1] * return_daily_e[t]\n",
        "price_list"
      ],
      "metadata": {
        "colab": {
          "base_uri": "https://localhost:8080/"
        },
        "id": "yVv3ukLIFCaF",
        "outputId": "705f15d9-0d5c-4a5a-e3bd-31e5770148a5"
      },
      "execution_count": 99,
      "outputs": [
        {
          "output_type": "execute_result",
          "data": {
            "text/plain": [
              "array([[4110.        ],\n",
              "       [4029.31639908],\n",
              "       [3949.27179168],\n",
              "       [3959.38784176],\n",
              "       [4162.75723224],\n",
              "       [4165.47548496],\n",
              "       [4307.0128992 ],\n",
              "       [4276.03306685],\n",
              "       [4336.84477282],\n",
              "       [4240.96887954]])"
            ]
          },
          "metadata": {},
          "execution_count": 99
        }
      ]
    },
    {
      "cell_type": "markdown",
      "source": [
        "Menghitung akurasi model"
      ],
      "metadata": {
        "id": "BZmnzCicyK28"
      }
    },
    {
      "cell_type": "code",
      "source": [
        "actual = [4230,4250,4210,4230,4220,4250,4180,4330,4270,4220]\n",
        "pred =[4110 ,4029.31639908,3949.27179168,3959.38784176,4162.75723224,\n",
        "       4165.47548496,4307.0128992,4276.03306685,4336.84477282,4240.96887954]"
      ],
      "metadata": {
        "id": "TEQMq71DLo6y"
      },
      "execution_count": 114,
      "outputs": []
    },
    {
      "cell_type": "code",
      "source": [
        "def mape(actual, pred): \n",
        "    actual, pred = np.array(actual), np.array(pred)\n",
        "    return np.mean(np.abs((actual - pred) / actual))*100"
      ],
      "metadata": {
        "id": "oBv3HdKOyOpv"
      },
      "execution_count": 115,
      "outputs": []
    },
    {
      "cell_type": "code",
      "source": [
        "mape(actual, pred)"
      ],
      "metadata": {
        "colab": {
          "base_uri": "https://localhost:8080/"
        },
        "id": "SFUa3ZEVLqUf",
        "outputId": "7c48e454-ae9f-4fbf-9074-92dc5e8abba7"
      },
      "execution_count": 122,
      "outputs": [
        {
          "output_type": "execute_result",
          "data": {
            "text/plain": [
              "3.03125100234538"
            ]
          },
          "metadata": {},
          "execution_count": 122
        }
      ]
    },
    {
      "cell_type": "code",
      "source": [
        "!pip install tabulate\n",
        "from tabulate import tabulate\n"
      ],
      "metadata": {
        "colab": {
          "base_uri": "https://localhost:8080/"
        },
        "id": "NT-mWnrezvxA",
        "outputId": "062a7e18-11a9-49d0-8f12-82ecbdaae2bd"
      },
      "execution_count": 103,
      "outputs": [
        {
          "output_type": "stream",
          "name": "stdout",
          "text": [
            "Requirement already satisfied: tabulate in /usr/local/lib/python3.7/dist-packages (0.8.9)\n"
          ]
        }
      ]
    },
    {
      "cell_type": "code",
      "source": [
        "Hasil = {'Tanggal':['2022-01-03','2022-01-04','2022-01-05',\n",
        "                    '2022-01-06','2022-01-07','2022-01-10','2022-01-11',\n",
        "                    '2022-01-12','2022-01-13','2022-01-14'],\n",
        "         'Actual' : [4230,4250,4210,4230,4220,4250,4180,4330,4270,4220],\n",
        "         'Pred':[4110 ,4029.31639908,3949.27179168,3959.38784176,4162.75723224,\n",
        "                 4165.47548496,4307.0128992,4276.03306685,4336.84477282,4240.96887954]}\n",
        "df = pd.DataFrame(Hasil)\n",
        "\n",
        "df.head"
      ],
      "metadata": {
        "colab": {
          "base_uri": "https://localhost:8080/"
        },
        "id": "4qvbMlu7179Y",
        "outputId": "ef925e44-6995-48e7-9455-a841246204b9"
      },
      "execution_count": 128,
      "outputs": [
        {
          "output_type": "execute_result",
          "data": {
            "text/plain": [
              "<bound method NDFrame.head of       Tanggal  Actual         Pred\n",
              "0  2022-01-03    4230  4110.000000\n",
              "1  2022-01-04    4250  4029.316399\n",
              "2  2022-01-05    4210  3949.271792\n",
              "3  2022-01-06    4230  3959.387842\n",
              "4  2022-01-07    4220  4162.757232\n",
              "5  2022-01-10    4250  4165.475485\n",
              "6  2022-01-11    4180  4307.012899\n",
              "7  2022-01-12    4330  4276.033067\n",
              "8  2022-01-13    4270  4336.844773\n",
              "9  2022-01-14    4220  4240.968880>"
            ]
          },
          "metadata": {},
          "execution_count": 128
        }
      ]
    },
    {
      "cell_type": "code",
      "source": [
        "fig = plt.figure(figsize=(10,6))\n",
        "\n",
        "ax1 = fig.add_axes([0,0,1,1])\n",
        "\n",
        "ax1.set_title('Actual vs Predic')\n",
        "\n",
        "ax1.plot(df['Tanggal'],\n",
        "         df['Actual'],\n",
        "         color='blue')\n",
        "\n",
        "ax1.plot(df['Tanggal'],\n",
        "         df['Pred'],\n",
        "         color='orange')\n",
        "\n",
        "plt.ylabel(\"Harga Saham\", fontsize = 10)\n",
        "plt.xlabel(\"Tanggal\", fontsize = 10)\n",
        "plt.legend(['Actual', 'Predc'], loc=4)\n",
        "\n",
        "plt.show()\n"
      ],
      "metadata": {
        "colab": {
          "base_uri": "https://localhost:8080/",
          "height": 510
        },
        "id": "3GCZpZaF1j6L",
        "outputId": "7f5a1c69-5ace-48c0-b3cb-145cdaac63ac"
      },
      "execution_count": 121,
      "outputs": [
        {
          "output_type": "display_data",
          "data": {
            "image/png": "[encoded data removed]",
            "text/plain": [
              "<Figure size 720x432 with 1 Axes>"
            ]
          },
          "metadata": {
            "needs_background": "light"
          }
        }
      ]
    },
    {
      "cell_type": "markdown",
      "source": [
        "#5.Prediksi tiga tahun kedepan"
      ],
      "metadata": {
        "id": "_3dPCjEjyRu8"
      }
    },
    {
      "cell_type": "code",
      "source": [
        "t_interval = 1095\n",
        "iteration = 1"
      ],
      "metadata": {
        "id": "3WgWLd08yXFr"
      },
      "execution_count": 123,
      "outputs": []
    },
    {
      "cell_type": "code",
      "source": [
        "norm.ppf(np.random.rand(t_interval,iteration))"
      ],
      "metadata": {
        "id": "N4R_FUahyrtt",
        "colab": {
          "base_uri": "https://localhost:8080/"
        },
        "outputId": "b0dd0b7f-fc39-4f8d-f2df-8ca8352f1d9a"
      },
      "execution_count": 124,
      "outputs": [
        {
          "output_type": "execute_result",
          "data": {
            "text/plain": [
              "array([[-0.75571597],\n",
              "       [ 0.74186525],\n",
              "       [-0.44051364],\n",
              "       ...,\n",
              "       [ 0.56587879],\n",
              "       [-0.70010701],\n",
              "       [ 0.98964809]])"
            ]
          },
          "metadata": {},
          "execution_count": 124
        }
      ]
    },
    {
      "cell_type": "code",
      "source": [
        "return_daily_e_pred = np.exp(drift + stdev *norm.ppf(np.random.rand(t_interval,iteration)))\n",
        "return_daily_e_pred"
      ],
      "metadata": {
        "id": "MM_FPcV9yz3t",
        "colab": {
          "base_uri": "https://localhost:8080/"
        },
        "outputId": "767973cf-af2e-4005-ba0f-b117b047d28e"
      },
      "execution_count": 125,
      "outputs": [
        {
          "output_type": "execute_result",
          "data": {
            "text/plain": [
              "array([[1.04425602],\n",
              "       [0.95405524],\n",
              "       [1.02139838],\n",
              "       ...,\n",
              "       [1.00564328],\n",
              "       [1.03522706],\n",
              "       [0.98886809]])"
            ]
          },
          "metadata": {},
          "execution_count": 125
        }
      ]
    },
    {
      "cell_type": "code",
      "source": [
        "S0 = data2['Adj Close'].iloc[-1]\n",
        "price_list_pred= np.zeros_like(return_daily_e_pred)\n",
        "price_list_pred[0] = S0\n",
        "for t in range(1, t_interval):\n",
        "    price_list_pred[t] = price_list_pred[t - 1] * return_daily_e_pred[t]\n",
        "price_list_pred\n"
      ],
      "metadata": {
        "id": "dpofmB6ly8Gt",
        "colab": {
          "base_uri": "https://localhost:8080/"
        },
        "outputId": "3fe3a771-1fa3-44c0-eebf-82c888d04c52"
      },
      "execution_count": 126,
      "outputs": [
        {
          "output_type": "execute_result",
          "data": {
            "text/plain": [
              "array([[4110.        ],\n",
              "       [3921.16705122],\n",
              "       [4005.0736651 ],\n",
              "       ...,\n",
              "       [ 414.92858345],\n",
              "       [ 429.54529669],\n",
              "       [ 424.7636379 ]])"
            ]
          },
          "metadata": {},
          "execution_count": 126
        }
      ]
    },
    {
      "cell_type": "markdown",
      "source": [
        "Visualisasi Pergerakan Saham"
      ],
      "metadata": {
        "id": "Jc2ugsOWu6FH"
      }
    },
    {
      "cell_type": "code",
      "source": [
        "plt.figure(figsize=(10,6))\n",
        "plt.plot(price_list_pred)\n",
        "plt.title(\"Kemungkinan Pergerakan Saham UNVR.JK 3 Tahun Mendatang\", fontsize = 15)\n",
        "plt.ylabel(\"Harga Saham\", fontsize = 10)\n",
        "plt.xlabel(\"Hari\", fontsize = 10)\n",
        "plt.show()"
      ],
      "metadata": {
        "id": "scZ_LAfZyTJk",
        "colab": {
          "base_uri": "https://localhost:8080/",
          "height": 406
        },
        "outputId": "f7345702-748a-4c1b-c5ce-1a8f1b245c35"
      },
      "execution_count": 127,
      "outputs": [
        {
          "output_type": "display_data",
          "data": {
            "image/png": "[encoded data removed]",
            "text/plain": [
              "<Figure size 720x432 with 1 Axes>"
            ]
          },
          "metadata": {
            "needs_background": "light"
          }
        }
      ]
    }
  ]
}